{
  "nbformat": 4,
  "nbformat_minor": 0,
  "metadata": {
    "colab": {
      "provenance": [],
      "authorship_tag": "ABX9TyPq1Kmqg/1MmjVyn3c5oYBX",
      "include_colab_link": true
    },
    "kernelspec": {
      "name": "python3",
      "display_name": "Python 3"
    },
    "language_info": {
      "name": "python"
    }
  },
  "cells": [
    {
      "cell_type": "markdown",
      "metadata": {
        "id": "view-in-github",
        "colab_type": "text"
      },
      "source": [
        "<a href=\"https://colab.research.google.com/github/stilldeserveahappyending/practice25/blob/main/age_predictor_demo.ipynb\" target=\"_parent\"><img src=\"https://colab.research.google.com/assets/colab-badge.svg\" alt=\"Open In Colab\"/></a>"
      ]
    },
    {
      "cell_type": "markdown",
      "source": [
        "Производственная"
      ],
      "metadata": {
        "id": "9_Zvmg7oarVr"
      }
    },
    {
      "cell_type": "markdown",
      "source": [
        "Импорт библиотек"
      ],
      "metadata": {
        "id": "dUYHfO46awYY"
      }
    },
    {
      "cell_type": "code",
      "source": [
        "!pip uninstall -y mtcnn lz4 joblib\n",
        "!pip install --upgrade --force-reinstall mtcnn lz4 joblib opencv-python-headless"
      ],
      "metadata": {
        "id": "M5ee9Bfiqmmb"
      },
      "execution_count": null,
      "outputs": []
    },
    {
      "cell_type": "code",
      "source": [
        "from PIL import Image\n",
        "import matplotlib.pyplot as plt\n",
        "\n",
        "from mtcnn import MTCNN\n",
        "import lz4\n",
        "\n",
        "import os\n",
        "import cv2\n",
        "import numpy as np\n",
        "import tensorflow as tf\n",
        "from sklearn.model_selection import train_test_split\n",
        "from sklearn.preprocessing import StandardScaler\n",
        "from sklearn.svm import SVR\n",
        "from sklearn.linear_model import Lasso, Ridge\n",
        "from sklearn.pipeline import Pipeline\n",
        "from sklearn.ensemble import VotingRegressor\n",
        "from google.colab import drive\n",
        "from sklearn.metrics import mean_squared_error, r2_score, accuracy_score, recall_score\n",
        "import joblib\n",
        "import contextlib\n",
        "\n",
        "drive.mount('/content/drive')\n"
      ],
      "metadata": {
        "id": "Ys8SlIDnaz9R"
      },
      "execution_count": null,
      "outputs": []
    },
    {
      "cell_type": "markdown",
      "source": [
        "Датасет и эмбендинговая модель"
      ],
      "metadata": {
        "id": "gUv_j2vGa0b1"
      }
    },
    {
      "cell_type": "code",
      "source": [
        "data_dir = '/content/drive/MyDrive/dataset/UTKFfix/UTKFace'\n",
        "# Загрузка модели\n",
        "model = tf.saved_model.load('/content/drive/MyDrive/dataset/faceNet')\n",
        "infer = model.signatures['serving_default']"
      ],
      "metadata": {
        "id": "EI73MZlTa4Ek"
      },
      "execution_count": null,
      "outputs": []
    },
    {
      "cell_type": "markdown",
      "source": [
        "Обработка"
      ],
      "metadata": {
        "id": "iDxTFfU1a4mA"
      }
    },
    {
      "cell_type": "code",
      "source": [
        "def preprocess_image(img_path):\n",
        "    \"\"\"Загрузка и предобработка изображения\"\"\"\n",
        "    img = cv2.imread(img_path)\n",
        "    if img is None:\n",
        "        print(f\"Не удалось загрузить изображение: {img_path}\")\n",
        "        return None\n",
        "\n",
        "    img = cv2.cvtColor(img, cv2.COLOR_BGR2RGB)\n",
        "    img = cv2.resize(img, (160, 160))\n",
        "    img = img.astype(np.float32)\n",
        "    img = (img - 127.5) / 128.0  # Нормализация для FaceNet\n",
        "    return img\n",
        "\n",
        "# Списки для данных\n",
        "embeddings = []\n",
        "ages = []"
      ],
      "metadata": {
        "id": "sMMifs4ua6_0"
      },
      "execution_count": null,
      "outputs": []
    },
    {
      "cell_type": "markdown",
      "source": [
        "Получение эмбендингов"
      ],
      "metadata": {
        "id": "kkqpxOTra7eq"
      }
    },
    {
      "cell_type": "code",
      "source": [
        "def get_face_embedding(img_path):\n",
        "    \"\"\"Извлечение эмбеддинга лица\"\"\"\n",
        "    img = preprocess_image(img_path)\n",
        "    if img is None:\n",
        "        return None\n",
        "\n",
        "    img_array = np.expand_dims(img, axis=0)\n",
        "    img_tensor = tf.convert_to_tensor(img_array, dtype=tf.float32)\n",
        "\n",
        "    # Получение эмбеддинга\n",
        "    result = infer(img_tensor)\n",
        "    embedding = result['Bottleneck_BatchNorm'].numpy()\n",
        "    return embedding.squeeze(0)\n",
        "# Обработка изображений\n",
        "for img_name in os.listdir(data_dir):\n",
        "    try:\n",
        "        # Парсинг возраста из имени файла\n",
        "        parts = img_name.split('_')\n",
        "        if not parts[0].isdigit():\n",
        "            continue\n",
        "\n",
        "        age = int(parts[0])\n",
        "        img_path = os.path.join(data_dir, img_name)\n",
        "\n",
        "        # Генерация эмбеддинга\n",
        "        embedding = get_face_embedding(img_path)\n",
        "        if embedding is None:\n",
        "            continue\n",
        "\n",
        "        # Сохраняем данные\n",
        "        embeddings.append(embedding)\n",
        "        ages.append(age)\n",
        "\n",
        "    except Exception as e:\n",
        "        print(f\"Ошибка обработки {img_name}: {str(e)}\")\n",
        "        continue"
      ],
      "metadata": {
        "id": "UEpj6ofXbBRC",
        "collapsed": true
      },
      "execution_count": null,
      "outputs": []
    },
    {
      "cell_type": "markdown",
      "source": [
        "Обработка результатов"
      ],
      "metadata": {
        "id": "X5YoUBSebAfR"
      }
    },
    {
      "cell_type": "code",
      "source": [
        "# Преобразуем в numpy arrays\n",
        "loaded_data = np.load('/content/drive/MyDrive/dataset/face_data.npz')\n",
        "embeddings = loaded_data['embeddings']\n",
        "ages = loaded_data['ages']\n",
        "#embeddings = np.array(embeddings)\n",
        "#ages = np.array(ages)\n",
        "\n",
        "print(\"\\nСтатистика датасета:\")\n",
        "print(f\"Всего образцов: {len(embeddings)}\")\n",
        "print(f\"Размерность эмбеддингов: {embeddings.shape}\")\n",
        "print(f\"Минимальный возраст: {np.min(ages)}\")\n",
        "print(f\"Максимальный возраст: {np.max(ages)}\")\n",
        "print(f\"Средний возраст: {np.mean(ages):.1f}\")\n",
        "\n",
        "# Разделение данных без стратификации по группам\n",
        "X_train, X_test, y_train, y_test = train_test_split(\n",
        "    embeddings,\n",
        "    ages,\n",
        "    test_size=0.2,\n",
        "    random_state=42\n",
        ")\n",
        "\n",
        "print(f\"\\nРазмер обучающей выборки: {X_train.shape[0]}\")\n",
        "print(f\"Размер тестовой выборки: {X_test.shape[0]}\")"
      ],
      "metadata": {
        "id": "nzlqWEvMbFa7"
      },
      "execution_count": null,
      "outputs": []
    },
    {
      "cell_type": "markdown",
      "source": [
        "Сохранение выборки"
      ],
      "metadata": {
        "id": "crtOoNbPtS_F"
      }
    },
    {
      "cell_type": "code",
      "source": [
        "save_dir = '/content/drive/MyDrive/age_prediction_data'\n",
        "os.makedirs(save_dir, exist_ok=True)\n",
        "\n",
        "# Сохраняем данные\n",
        "np.save(os.path.join(save_dir, 'X_train.npy'), X_train)\n",
        "np.save(os.path.join(save_dir, 'X_test.npy'), X_test)\n",
        "np.save(os.path.join(save_dir, 'y_train.npy'), y_train)\n",
        "np.save(os.path.join(save_dir, 'y_test.npy'), y_test)\n"
      ],
      "metadata": {
        "id": "guXPPxGHUzol"
      },
      "execution_count": null,
      "outputs": []
    },
    {
      "cell_type": "markdown",
      "source": [
        "Загрузка выборки"
      ],
      "metadata": {
        "id": "1O3gvCERtXFH"
      }
    },
    {
      "cell_type": "code",
      "source": [
        "load_dir = '/content/drive/MyDrive/age_prediction_data'\n",
        "\n",
        "# Загрузка данных\n",
        "X_train = np.load(os.path.join(load_dir, 'X_train.npy'))\n",
        "X_test = np.load(os.path.join(load_dir, 'X_test.npy'))\n",
        "y_train = np.load(os.path.join(load_dir, 'y_train.npy'))\n",
        "y_test = np.load(os.path.join(load_dir, 'y_test.npy'))"
      ],
      "metadata": {
        "id": "UA6Riz9tmygF"
      },
      "execution_count": null,
      "outputs": []
    },
    {
      "cell_type": "markdown",
      "source": [
        "MTCNN"
      ],
      "metadata": {
        "id": "ti8Dyj2o0jhI"
      }
    },
    {
      "cell_type": "code",
      "source": [
        "img = cv2.imread('/content/drive/MyDrive/dataset/train/18-20/5.jpg')\n",
        "img = cv2.cvtColor(img, cv2.COLOR_BGR2RGB)\n",
        "face_detector = MTCNN()\n",
        "detections = face_detector.detect_faces(img)\n",
        "\n",
        "# Лицо с наибольшей уверенностью\n",
        "best_face = max(detections, key=lambda x: x['confidence'])\n",
        "x, y, w, h = best_face['box']\n",
        "\n",
        "# Увеличивание области вокруг лица на 10%\n",
        "margin = 0.1\n",
        "x = max(0, int(x - margin * w))\n",
        "y = max(0, int(y - margin * h))\n",
        "w = min(img.shape[1] - x, int(w * (1 + 2 * margin)))\n",
        "h = min(img.shape[0] - y, int(h * (1 + 2 * margin)))\n",
        "\n",
        "# Обрезание лица\n",
        "face = img[y:y+h, x:x+w]\n",
        "plt.figure(figsize=(10, 8))\n",
        "\n",
        "# Отрисовка прямоугольника вокруг лица\n",
        "rect = plt.Rectangle((x, y), w, h, fill=False, color='red', linewidth=2)\n",
        "\n",
        "plt.subplot(1, 2, 1)\n",
        "plt.imshow(img)\n",
        "plt.gca().add_patch(rect)\n",
        "plt.title('Исходное изображение с обнаруженным лицом')\n",
        "plt.axis('off')\n",
        "\n",
        "# Вывод\n",
        "plt.subplot(1, 2, 2)\n",
        "plt.imshow(face)\n",
        "plt.title('Обрезанная область лица')\n",
        "plt.axis('off')\n",
        "\n",
        "plt.tight_layout()\n",
        "plt.show()"
      ],
      "metadata": {
        "id": "YOMICTKsZgwC"
      },
      "execution_count": null,
      "outputs": []
    },
    {
      "cell_type": "markdown",
      "source": [
        "Модель предсказания возраста по эмбендингам"
      ],
      "metadata": {
        "id": "em7M9F-qbFu6"
      }
    },
    {
      "cell_type": "code",
      "execution_count": null,
      "metadata": {
        "id": "-SC285L5apIR"
      },
      "outputs": [],
      "source": [
        "class AgePredictor:\n",
        "    def __init__(self, embedding_model_path):\n",
        "        \"\"\"Инициализация\"\"\"\n",
        "        # Загрузка модели для получения эмбеддингов лиц\n",
        "        self.embedding_model = tf.saved_model.load(embedding_model_path)\n",
        "        self.embedder = self.embedding_model.signatures['serving_default']\n",
        "\n",
        "        # Масштабирование признаков\n",
        "        self.scaler = StandardScaler()\n",
        "\n",
        "        # Ансамбль\n",
        "        self.ensemble = None\n",
        "\n",
        "        # Отдельные модели\n",
        "        self.individual_models = {}\n",
        "\n",
        "        # Метрики оценки\n",
        "        self.evaluation_metrics = {}\n",
        "        try:\n",
        "            # Детектор лиц\n",
        "            self.face_detector = MTCNN()\n",
        "        except Exception as e:\n",
        "            print(f\"Ошибка инициализации MTCNN: {str(e)}\")\n",
        "            self.face_detector = None\n",
        "\n",
        "    def cutting_face(self, img):\n",
        "        \"\"\"Обнаружение лица на изображении\"\"\"\n",
        "        if self.face_detector is None:\n",
        "            return img\n",
        "\n",
        "        # Обнаружение лиц на изображении\n",
        "        detections = self.face_detector.detect_faces(img)\n",
        "        if not detections:\n",
        "            return None\n",
        "\n",
        "        # Лицо с наибольшей уверенностью\n",
        "        best_face = max(detections, key=lambda x: x['confidence'])\n",
        "        x, y, w, h = best_face['box']\n",
        "\n",
        "        # Отступ 10%\n",
        "        margin = 0.1\n",
        "\n",
        "        # Корректировка отступа\n",
        "        x = max(0, int(x - margin * w))\n",
        "        y = max(0, int(y - margin * h))\n",
        "        w = min(img.shape[1] - x, int(w * (1 + 2 * margin)))\n",
        "        h = min(img.shape[0] - y, int(h * (1 + 2 * margin)))\n",
        "\n",
        "        return img[y:y+h, x:x+w]\n",
        "\n",
        "    def preprocess_image(self, img_path):\n",
        "        \"\"\"Загрузка и предобработка изображения\"\"\"\n",
        "        # Загрузка изображения\n",
        "        img = cv2.imread(img_path)\n",
        "        if img is None:\n",
        "            print(\"Не удалось загрузить изображение\")\n",
        "            return None\n",
        "\n",
        "        # Перевод в необходимый формат для работы MTCNN\n",
        "        img = cv2.cvtColor(img, cv2.COLOR_BGR2RGB)\n",
        "\n",
        "        # Обнаружение и обрезка лица\n",
        "        face = self.cutting_face(img)\n",
        "        if face is None:\n",
        "            print(\"Лицо не обнаружено\")\n",
        "            return None\n",
        "\n",
        "        # Изененние размера и перевод в float32 (требования FaceNet)\n",
        "        face = cv2.resize(face, (160, 160))\n",
        "        face = face.astype(np.float32)\n",
        "\n",
        "        # Нормализация\n",
        "        face = (face - 127.5) / 128.0\n",
        "\n",
        "        return face\n",
        "\n",
        "    def predict_age_from_image(self, img_path):\n",
        "        \"\"\"Предсказание возраста\"\"\"\n",
        "        # Получение эмбеддинга\n",
        "        embedding = self.get_face_embedding(img_path)\n",
        "        if embedding is None:\n",
        "            return None\n",
        "\n",
        "        # Масштабирование\n",
        "        scaled_embedding = self.scaler.transform([embedding])\n",
        "\n",
        "        # Предсказание возраста\n",
        "        age = self.ensemble.predict(scaled_embedding)[0]\n",
        "\n",
        "        # Возврат с округлением до 1 знака\n",
        "        return round(age, 1)\n",
        "\n",
        "    def get_face_embedding(self, img_path):\n",
        "        \"\"\"Получение эмбеддинга лица\"\"\"\n",
        "        img = self.preprocess_image(img_path)\n",
        "        if img is None:\n",
        "            return None\n",
        "\n",
        "        # Расширение измерений (требования FaceNet, форма фходных данных: (1, 160, 160, 3))\n",
        "        img_array = np.expand_dims(img, axis=0)\n",
        "        img_tensor = tf.convert_to_tensor(img_array, dtype=tf.float32)\n",
        "\n",
        "        # Получение эмбеддинга\n",
        "        result = self.embedder(img_tensor)\n",
        "        embedding = result['Bottleneck_BatchNorm'].numpy()\n",
        "        return embedding.squeeze(0)\n",
        "\n",
        "    def train_models(self, X, y):\n",
        "        \"\"\"Обучение модели\"\"\"\n",
        "        # Масштабирование данных\n",
        "        X_scaled = self.scaler.fit_transform(X)\n",
        "\n",
        "        # Обучение SVR с RBF ядром\n",
        "        svm_rbf = SVR(kernel='rbf', gamma='auto', epsilon=0.05, C=100)\n",
        "        svm_rbf.fit(X_scaled, y)\n",
        "        self.individual_models['svm_rbf'] = svm_rbf\n",
        "\n",
        "        # Обучение SVR с полиномиальным ядром\n",
        "        svm_poly = SVR(kernel='poly', epsilon=0.1, degree=2, coef0=0.5, C=100)\n",
        "        svm_poly.fit(X_scaled, y)\n",
        "        self.individual_models['svm_poly'] = svm_poly\n",
        "\n",
        "        # Создание ансамбля\n",
        "        self.ensemble = VotingRegressor(\n",
        "            estimators=[\n",
        "                ('svm_rbf', svm_rbf),\n",
        "                ('svm_poly', svm_poly)\n",
        "            ],\n",
        "            weights=[2, 1]  # Вес модели с RBF ядром в 2 раза больше\n",
        "        )\n",
        "        self.ensemble.fit(X_scaled, y)\n",
        "\n",
        "        return self\n",
        "\n",
        "    def evaluate_model(self, X_test, y_test):\n",
        "        \"\"\"Оценка модели\"\"\"\n",
        "        if self.ensemble is None:\n",
        "            print(\"Модель не обучена\")\n",
        "            return None\n",
        "\n",
        "        # Масштабирование тестовых данных\n",
        "        X_test_scaled = self.scaler.transform(X_test)\n",
        "\n",
        "        # Предсказание на тестовых данных\n",
        "        y_pred = self.ensemble.predict(X_test_scaled)\n",
        "\n",
        "        # Вычисление метрик\n",
        "        metrics = {\n",
        "            'MSE': mean_squared_error(y_test, y_pred),\n",
        "            'RMSE': np.sqrt(mean_squared_error(y_test, y_pred)),\n",
        "            'R2': r2_score(y_test, y_pred),\n",
        "            'MAE': np.mean(np.abs((y_test - y_pred)))\n",
        "        }\n",
        "\n",
        "        # Сохранение метрик\n",
        "        self.evaluation_metrics = {\n",
        "            'ensemble': metrics\n",
        "        }\n",
        "\n",
        "        return self.evaluation_metrics\n",
        "\n",
        "    def print_metrics(self):\n",
        "        \"\"\"Вывод метрик оценки\"\"\"\n",
        "        if not self.evaluation_metrics:\n",
        "            return\n",
        "\n",
        "        print(\"\\nМетрики оценки модели:\")\n",
        "        for metric, value in self.evaluation_metrics['ensemble'].items():\n",
        "            print(f\"{metric}: {value:.4f}\")\n",
        "\n",
        "    def save_models(self, path):\n",
        "        \"\"\"Сохранение модели\"\"\"\n",
        "        if self.ensemble is None:\n",
        "            return\n",
        "        joblib.dump({\n",
        "            'ensemble': self.ensemble,\n",
        "            'individual_models': self.individual_models,\n",
        "            'scaler': self.scaler\n",
        "        }, path, compress=('gzip', 3))\n",
        "\n",
        "    @classmethod\n",
        "    def load_models(cls, embedding_model_path, predictor_path):\n",
        "        \"\"\"Загрузка модели\"\"\"\n",
        "        # Создание экземпляра класса\n",
        "        predictor = cls(embedding_model_path)\n",
        "\n",
        "        # Загрузка сохраненной модели\n",
        "        models = joblib.load(predictor_path)\n",
        "        predictor.ensemble = models['ensemble']\n",
        "        predictor.individual_models = models['individual_models']\n",
        "        predictor.scaler = models['scaler']\n",
        "\n",
        "        return predictor"
      ]
    },
    {
      "cell_type": "markdown",
      "source": [
        "Результат"
      ],
      "metadata": {
        "id": "0MVCBV1V8JNM"
      }
    },
    {
      "cell_type": "code",
      "source": [
        "# Основной блок выполнения\n",
        "if __name__ == \"__main__\":\n",
        "    # Инициализация\n",
        "    predictor = AgePredictor('/content/drive/MyDrive/dataset/faceNet')\n",
        "    predictor.train_models(X_train, y_train)\n",
        "\n",
        "    # Оценка модели\n",
        "    print(\"\\nОценка модели на тестовых данных...\")\n",
        "    metrics = predictor.evaluate_model(X_test, y_test)\n",
        "    predictor.print_metrics()\n",
        "\n",
        "    model_dir = '/content/drive/MyDrive/age_detection_models'\n",
        "    os.makedirs(model_dir, exist_ok=True)\n",
        "\n",
        "    predictor_path = os.path.join(model_dir, 'SVR_age_predictor_fix.pkl')\n",
        "    predictor.save_models(predictor_path)"
      ],
      "metadata": {
        "id": "hMrqAbLB8ITa"
      },
      "execution_count": null,
      "outputs": []
    },
    {
      "cell_type": "markdown",
      "source": [
        "Загрузка модели"
      ],
      "metadata": {
        "id": "xEbeXppxLe2u"
      }
    },
    {
      "cell_type": "code",
      "source": [
        "model_path = '/content/drive/MyDrive/age_detection_models/Age_predictor_SVR_fin.pkl'\n",
        "faceNet_path = '/content/drive/MyDrive/dataset/faceNet'\n",
        "predictor = AgePredictor.load_models(\n",
        "    embedding_model_path=faceNet_path,\n",
        "    predictor_path=model_path\n",
        ")\n"
      ],
      "metadata": {
        "id": "-tzF5sv3thRD"
      },
      "execution_count": null,
      "outputs": []
    },
    {
      "cell_type": "markdown",
      "source": [
        "Использование"
      ],
      "metadata": {
        "id": "ThCN2WX442q1"
      }
    },
    {
      "cell_type": "code",
      "source": [
        "if __name__ == \"__main__\":\n",
        "    # Тестирование на новом изображении\n",
        "    test_img = '/content/drive/MyDrive/dataset/train/51-60/13.jpg'\n",
        "    result = predictor.predict_age_from_image(test_img)\n",
        "    if result:\n",
        "        img = cv2.imread(test_img)\n",
        "        img_rgb = cv2.cvtColor(img, cv2.COLOR_BGR2RGB)\n",
        "\n",
        "        plt.figure(figsize=(8, 6))\n",
        "        plt.imshow(img_rgb)\n",
        "        plt.title(f\"Предсказанный возраст: {result} лет\")\n",
        "        plt.axis('off')\n",
        "        plt.show()"
      ],
      "metadata": {
        "id": "0wwcV24JAXfh"
      },
      "execution_count": null,
      "outputs": []
    }
  ]
}